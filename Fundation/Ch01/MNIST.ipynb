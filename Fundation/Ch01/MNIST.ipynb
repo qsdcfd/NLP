{
  "nbformat": 4,
  "nbformat_minor": 0,
  "metadata": {
    "colab": {
      "name": "MNIST",
      "provenance": [],
      "authorship_tag": "ABX9TyPUBP091QZ/EKjpvlKMRjcY"
    },
    "kernelspec": {
      "name": "python3",
      "display_name": "Python 3"
    },
    "language_info": {
      "name": "python"
    }
  },
  "cells": [
    {
      "cell_type": "code",
      "execution_count": 1,
      "metadata": {
        "id": "G0v_loO4-EOL"
      },
      "outputs": [],
      "source": [
        "import torch\n",
        "import torch.nn"
      ]
    },
    {
      "cell_type": "code",
      "source": [
        "import sys \n",
        "import numpy as np\n",
        "import matplotlib.pyplot as plt\n"
      ],
      "metadata": {
        "id": "BFr9zHq3-K3O"
      },
      "execution_count": 2,
      "outputs": []
    },
    {
      "cell_type": "code",
      "source": [
        "%run model.py\n",
        "%run utils.py\n",
        "#%run train.py\n",
        "%run trainer.py"
      ],
      "metadata": {
        "id": "WIr4psep-wck"
      },
      "execution_count": null,
      "outputs": []
    },
    {
      "cell_type": "code",
      "source": [
        "from model import ImageClassifier\n",
        "from utils import load_mnist"
      ],
      "metadata": {
        "id": "YAlf8xsp-1ll"
      },
      "execution_count": 4,
      "outputs": []
    },
    {
      "cell_type": "code",
      "source": [
        "model_fn = \"./\""
      ],
      "metadata": {
        "id": "r3gCi2sO-3_7"
      },
      "execution_count": 5,
      "outputs": []
    },
    {
      "cell_type": "code",
      "source": [
        "device = torch.device('cuda') if torch.cuda.is_available() else torch.device('cpu')"
      ],
      "metadata": {
        "id": "Tys8vyRY-7Zs"
      },
      "execution_count": 6,
      "outputs": []
    },
    {
      "cell_type": "code",
      "source": [
        "def load(fn, device):\n",
        "    d = torch.load(fn, map_location=device)\n",
        "\n",
        "    return d['model']"
      ],
      "metadata": {
        "id": "ymzrPqCS-9Az"
      },
      "execution_count": 7,
      "outputs": []
    },
    {
      "cell_type": "code",
      "source": [
        "def plot(x, y_hat):\n",
        "    for i in range(x.size(0)):\n",
        "        img = (np.array(x[i].detach().cpu(), dtype='float')).reshape(28,28)\n",
        "\n",
        "        plt.imshow(img, cmap='gray')\n",
        "        plt.show()\n",
        "        print(\"Predict:\", float(torch.argmax(y_hat[i], dim=-1)))"
      ],
      "metadata": {
        "id": "dcE8gGlQ_E3U"
      },
      "execution_count": 8,
      "outputs": []
    },
    {
      "cell_type": "code",
      "source": [
        "def test(model, x, y, to_be_shown=True):\n",
        "    model.eval()\n",
        "    \n",
        "    with torch.no_grad():\n",
        "        y_hat = model(x)\n",
        "\n",
        "        correct_cnt = (y.squeeze() == torch.argmax(y_hat, dim=-1)).sum()\n",
        "        total_cnt = float(x.size(0))\n",
        "        \n",
        "        accuracy = correct_cnt / total_cnt\n",
        "        print(\"Accuracy: %.4f\" % accuracy)\n",
        "        \n",
        "        if to_be_shown:\n",
        "            plot(x, y_hat)"
      ],
      "metadata": {
        "id": "jeL3YKf0_G8I"
      },
      "execution_count": 11,
      "outputs": []
    },
    {
      "cell_type": "code",
      "source": [
        "# Load MNIST test set.\n",
        "x, y = load_mnist(is_train=False)\n",
        "# Reshape tensor to chunk of 1-d vectors.\n",
        "x = x.view(x.size(0), -1)\n",
        "\n",
        "x, y = x.to(device), y.to(device)\n",
        "\n",
        "model = ImageClassifier(28**2, 10).to(device)\n",
        "model.load_state_dict(load(model_fn, device))\n",
        "\n",
        "test(model, x[:20], y[:20], to_be_shown=True)"
      ],
      "metadata": {
        "id": "j3OekfJu_YGa"
      },
      "execution_count": null,
      "outputs": []
    },
    {
      "cell_type": "code",
      "source": [
        ""
      ],
      "metadata": {
        "id": "xfPXljUv_ZvS"
      },
      "execution_count": null,
      "outputs": []
    }
  ]
}